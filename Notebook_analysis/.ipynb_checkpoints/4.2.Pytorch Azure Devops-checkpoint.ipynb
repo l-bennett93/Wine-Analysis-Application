{
 "cells": [
  {
   "cell_type": "markdown",
   "metadata": {},
   "source": [
    "# 4.2 Azure ML Experiment Set Up\n",
    "\n",
    "The Deep learning section will be split into two sections\n",
    "\n",
    "1. **4.1 Notebook example of a Neural Network**\n",
    "2. **4.2 To further explore the best model for the task, an experiment   \n",
    "   version connected to Microsoft Azure ML Studio will be created**  \n",
    "\n",
    "To further explore the model and to ensure we can access previous experiments. \n",
    "We can incorporate Devops into the process. This will allow better understanding of the effects\n",
    "of experiments and allow previous experiments to be rolled back and documented."
   ]
  },
  {
   "cell_type": "markdown",
   "metadata": {},
   "source": [
    "Setting up the environment\n",
    "\n",
    "To set up the environment, the following is needed\n",
    "\n",
    " - A registered azure account. See https://azure.microsoft.com/en-us/free/  \n",
    "   to register an account if you have not done so.\n",
    " - A resource group to house your resources\n",
    " - Azure ML instance that contains the tools to store and manage your experiments.\n",
    " \n",
    " \n",
    "This can be done programatically. But for simplicity, this can be completed manually\n",
    "Simply \n",
    " - Login into the portal\n",
    " - Create a resource group in the prefered location\n",
    " - Go to the Marketplace and create an Azure ML instance in the given resource group  \n",
    "   Ensure enterprise edition is chosen to access the required features"
   ]
  },
  {
   "cell_type": "code",
   "execution_count": 69,
   "metadata": {},
   "outputs": [],
   "source": [
    "# !pip install --upgrade azureml-sdk"
   ]
  },
  {
   "cell_type": "code",
   "execution_count": 26,
   "metadata": {},
   "outputs": [],
   "source": [
    "import azureml\n",
    "from azureml.core import Dataset, Datastore\n",
    "from pathlib import Path\n",
    "import pandas as pd"
   ]
  },
  {
   "cell_type": "markdown",
   "metadata": {},
   "source": [
    "If this is the first time running this notebook.  \n",
    "You will need to supply your details for the azure ml workspace.  \n",
    "This function will then write a config to your local environment so you will  \n",
    "only need to register your details once"
   ]
  },
  {
   "cell_type": "code",
   "execution_count": 62,
   "metadata": {},
   "outputs": [],
   "source": [
    "def setup_workspace_config():\n",
    "    \"\"\"\n",
    "    Create an Azure Workplace Config\n",
    "    \"\"\"\n",
    "    subscription_id = input(\"Subscription ID: \")\n",
    "    resource_group = input(\"Resource Group: \")\n",
    "    workspace_name = input(\"Workspace Name: \")\n",
    "    ws = Workspace(subscription_id, resource_group, workspace_name)\n",
    "    ws.write_config()"
   ]
  },
  {
   "cell_type": "code",
   "execution_count": 64,
   "metadata": {},
   "outputs": [],
   "source": [
    "try:\n",
    "    ws = Workspace.from_config()\n",
    "except:\n",
    "    setup_workspace_config()\n",
    "    ws = Workspace.from_config()"
   ]
  },
  {
   "cell_type": "markdown",
   "metadata": {},
   "source": [
    "For the purposes of this notebook. We will use the default datastore per the below."
   ]
  },
  {
   "cell_type": "code",
   "execution_count": 72,
   "metadata": {},
   "outputs": [
    {
     "data": {
      "text/plain": [
       "{\n",
       "  \"name\": \"workspaceblobstore\",\n",
       "  \"container_name\": \"azureml-blobstore-e9239929-b0fc-4cff-9215-972b1889bed3\",\n",
       "  \"account_name\": \"wineanalysis3769491286\",\n",
       "  \"protocol\": \"https\",\n",
       "  \"endpoint\": \"core.windows.net\"\n",
       "}"
      ]
     },
     "execution_count": 72,
     "metadata": {},
     "output_type": "execute_result"
    }
   ],
   "source": [
    "data_store = ws.get_default_datastore(); data_store"
   ]
  },
  {
   "cell_type": "markdown",
   "metadata": {},
   "source": [
    "Now load in the test and train datasets"
   ]
  },
  {
   "cell_type": "code",
   "execution_count": 70,
   "metadata": {},
   "outputs": [],
   "source": [
    "#Base path for the folder\n",
    "datasets = {}\n",
    "base_path = Path(\"data\",\"stratified_sets\")\n",
    "\n",
    "for phase in [\"train\", \"test\"]:    \n",
    "    file_name = phase + \".csv\" \n",
    "    data = pd.read_csv(base_path / file_name)\n",
    "    datasets.update({phase:data})"
   ]
  },
  {
   "cell_type": "code",
   "execution_count": 76,
   "metadata": {},
   "outputs": [],
   "source": [
    "base_path = Path(\"data\",\"stratified_sets\")\n",
    "data_files = [base_path / (phase + \".csv\") for phase in [\"train\", \"test\"]]"
   ]
  },
  {
   "cell_type": "code",
   "execution_count": 85,
   "metadata": {},
   "outputs": [
    {
     "name": "stdout",
     "output_type": "stream",
     "text": [
      "Uploading an estimated of 2 files\n",
      "Target already exists. Skipping upload for test.csv\n",
      "Target already exists. Skipping upload for train.csv\n",
      "Uploaded 0 files\n"
     ]
    },
    {
     "data": {
      "text/plain": [
       "$AZUREML_DATAREFERENCE_workspaceblobstore"
      ]
     },
     "execution_count": 85,
     "metadata": {},
     "output_type": "execute_result"
    }
   ],
   "source": [
    "base_path = Path(\"data\",\"stratified_sets\")\n",
    "data_store.upload(base_path)"
   ]
  },
  {
   "cell_type": "code",
   "execution_count": 87,
   "metadata": {},
   "outputs": [
    {
     "name": "stdout",
     "output_type": "stream",
     "text": [
      "Downloading test.csv\n",
      "Downloading train.csv\n",
      "Downloaded test.csv, 1 files out of an estimated total of 2\n",
      "Downloaded train.csv, 2 files out of an estimated total of 2\n"
     ]
    },
    {
     "data": {
      "text/plain": [
       "2"
      ]
     },
     "execution_count": 87,
     "metadata": {},
     "output_type": "execute_result"
    }
   ],
   "source": [
    "data_store.download(\".\")"
   ]
  }
 ],
 "metadata": {
  "kernelspec": {
   "display_name": "Python 3",
   "language": "python",
   "name": "python3"
  },
  "language_info": {
   "codemirror_mode": {
    "name": "ipython",
    "version": 3
   },
   "file_extension": ".py",
   "mimetype": "text/x-python",
   "name": "python",
   "nbconvert_exporter": "python",
   "pygments_lexer": "ipython3",
   "version": "3.7.3"
  }
 },
 "nbformat": 4,
 "nbformat_minor": 2
}
